{
  "nbformat": 4,
  "nbformat_minor": 0,
  "metadata": {
    "colab": {
      "provenance": []
    },
    "kernelspec": {
      "name": "python3",
      "display_name": "Python 3"
    },
    "language_info": {
      "name": "python"
    }
  },
  "cells": [
    {
      "cell_type": "code",
      "execution_count": 13,
      "metadata": {
        "id": "FH2Nq-YKzuX9"
      },
      "outputs": [],
      "source": [
        "import pandas as pd\n",
        "\n",
        "# Membuat DataFrame sederhana\n",
        "data = {\n",
        "    'Nama': ['Alice', 'Bob', 'Charlie', 'David', 'Eve'],\n",
        "    'Usia': [24, 27, 22, 32, 29],\n",
        "    'Kota': ['Jakarta', 'Bandung', 'Surabaya', 'Medan', 'Yogyakarta']\n",
        "}\n",
        "\n",
        "df = pd.DataFrame(data)\n"
      ]
    },
    {
      "cell_type": "code",
      "source": [
        "print(df)\n"
      ],
      "metadata": {
        "colab": {
          "base_uri": "https://localhost:8080/"
        },
        "id": "utrBRJg4zysV",
        "outputId": "c2769cf7-dc62-46cb-9878-35fdc5ca8b4d"
      },
      "execution_count": 14,
      "outputs": [
        {
          "output_type": "stream",
          "name": "stdout",
          "text": [
            "      Nama  Usia        Kota\n",
            "0    Alice    24     Jakarta\n",
            "1      Bob    27     Bandung\n",
            "2  Charlie    22    Surabaya\n",
            "3    David    32       Medan\n",
            "4      Eve    29  Yogyakarta\n"
          ]
        }
      ]
    },
    {
      "cell_type": "code",
      "source": [
        "average_age = df['Usia'].mean()\n",
        "print(f\"Rata-rata usia: {average_age:.2f}\")\n"
      ],
      "metadata": {
        "colab": {
          "base_uri": "https://localhost:8080/"
        },
        "id": "Z9OJY-VSz-nr",
        "outputId": "a75f25c4-60ae-4ed3-da80-c1e2feca30f5"
      },
      "execution_count": 15,
      "outputs": [
        {
          "output_type": "stream",
          "name": "stdout",
          "text": [
            "Rata-rata usia: 26.80\n"
          ]
        }
      ]
    },
    {
      "cell_type": "code",
      "source": [
        "print(\"Rata-rata usia: 26.80\")"
      ],
      "metadata": {
        "colab": {
          "base_uri": "https://localhost:8080/"
        },
        "id": "u5K1sdv40Amu",
        "outputId": "48c4157a-6191-493d-cc6c-3215ddb74365"
      },
      "execution_count": 16,
      "outputs": [
        {
          "output_type": "stream",
          "name": "stdout",
          "text": [
            "Rata-rata usia: 26.80\n"
          ]
        }
      ]
    },
    {
      "cell_type": "code",
      "source": [
        "df.to_csv('data.csv', index=False)\n"
      ],
      "metadata": {
        "id": "RgNkIOIx0Dcs"
      },
      "execution_count": 17,
      "outputs": []
    },
    {
      "cell_type": "code",
      "source": [
        "import pandas as pd\n",
        "import matplotlib.pyplot as plt\n",
        "\n",
        "# Membuat DataFrame sederhana\n",
        "data = {\n",
        "    'Nama': ['Haikal', 'Fajril', 'Raihan', 'David', 'Eve'],\n",
        "    'Usia': [24, 27, 22, 32, 29],\n",
        "    'Kota': ['Jakarta', 'Bandung', 'Surabaya', 'Medan', 'Yogyakarta']\n",
        "}\n",
        "\n",
        "df = pd.DataFrame(data)\n",
        "\n",
        "# Menampilkan DataFrame\n",
        "print(df)\n",
        "\n",
        "# Menghitung rata-rata usia\n",
        "average_age = df['Usia'].mean()\n",
        "print(f\"Rata-rata usia: {average_age:.2f}\")\n",
        "\n",
        "# Menyimpan data ke dalam file CSV\n",
        "df.to_csv('data.csv', index=False)\n",
        "\n",
        "# Membuat grafik diagram batang\n",
        "plt.figure(figsize=(10, 6))\n",
        "plt.bar(df['Nama'], df['Usia'], color='skyblue')\n",
        "plt.xlabel('Nama')\n",
        "plt.ylabel('Usia')\n",
        "plt.title('Usia Setiap Individu')\n",
        "plt.show()\n"
      ],
      "metadata": {
        "colab": {
          "base_uri": "https://localhost:8080/",
          "height": 686
        },
        "id": "DFOjFV2k1PCG",
        "outputId": "e9a025da-96b4-4df3-a974-5915d51aa39d"
      },
      "execution_count": 18,
      "outputs": [
        {
          "output_type": "stream",
          "name": "stdout",
          "text": [
            "     Nama  Usia        Kota\n",
            "0  Haikal    24     Jakarta\n",
            "1  Fajril    27     Bandung\n",
            "2  Raihan    22    Surabaya\n",
            "3   David    32       Medan\n",
            "4     Eve    29  Yogyakarta\n",
            "Rata-rata usia: 26.80\n"
          ]
        },
        {
          "output_type": "display_data",
          "data": {
            "text/plain": [
              "<Figure size 1000x600 with 1 Axes>"
            ],
            "image/png": "[encoded data removed]"
          },
          "metadata": {}
        }
      ]
    }
  ]
}